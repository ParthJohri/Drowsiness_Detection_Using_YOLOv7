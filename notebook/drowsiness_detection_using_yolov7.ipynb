{
  "cells": [
    {
      "cell_type": "code",
      "execution_count": null,
      "metadata": {
        "colab": {
          "base_uri": "https://localhost:8080/"
        },
        "id": "LcLXxXZzNpZt",
        "outputId": "285b42f2-e0ce-4c27-c7f7-baf6e2ed1527"
      },
      "outputs": [],
      "source": [
        "!nvidia-smi"
      ]
    },
    {
      "cell_type": "code",
      "execution_count": null,
      "metadata": {
        "colab": {
          "base_uri": "https://localhost:8080/"
        },
        "id": "Uk9J-L1oX5vO",
        "outputId": "577e9000-50d9-426f-ab28-e221621cbe40"
      },
      "outputs": [],
      "source": [
        "from google.colab import drive\n",
        "\n",
        "drive.mount('/content/gdrive')"
      ]
    },
    {
      "cell_type": "code",
      "execution_count": null,
      "metadata": {
        "colab": {
          "base_uri": "https://localhost:8080/"
        },
        "id": "lTfUVzjxUc_f",
        "outputId": "2025326c-adb4-4db8-acd3-75ebcc3a3966"
      },
      "outputs": [],
      "source": [
        "%cd /content/gdrive/MyDrive/Drowsiness_detection_using_yolov7/"
      ]
    },
    {
      "cell_type": "code",
      "execution_count": null,
      "metadata": {
        "colab": {
          "base_uri": "https://localhost:8080/"
        },
        "id": "1tdhUECQPfM4",
        "outputId": "8862a852-4c80-4854-c92f-18507692228f"
      },
      "outputs": [],
      "source": [
        "!git clone https://github.com/SkalskiP/yolov7.git\n",
        "%cd yolov7\n",
        "!pip install -r requirements.txt"
      ]
    },
    {
      "cell_type": "code",
      "execution_count": null,
      "metadata": {
        "colab": {
          "base_uri": "https://localhost:8080/"
        },
        "id": "56zDCNx-P2GU",
        "outputId": "4f17f9c5-b977-4251-ab44-f17b02c7a399"
      },
      "outputs": [],
      "source": [
        "%cd /content/gdrive/MyDrive/Drowsiness_detection_using_yolov7/yolov7\n",
        "!wget https://github.com/WongKinYiu/yolov7/releases/download/v0.1/yolov7.pt"
      ]
    },
    {
      "cell_type": "code",
      "execution_count": null,
      "metadata": {
        "colab": {
          "base_uri": "https://localhost:8080/"
        },
        "id": "_EaPLZVKVSfg",
        "outputId": "82a8fb80-c334-4f60-9b91-c67186908b6a"
      },
      "outputs": [],
      "source": [
        "dir_path = \"/content/gdrive/MyDrive/Drowsiness_detection_using_yolov7/yolov7\"\n",
        "%cd {dir_path}\n",
        "!pip install \"numpy<1.24.0\""
      ]
    },
    {
      "cell_type": "code",
      "execution_count": null,
      "metadata": {
        "colab": {
          "base_uri": "https://localhost:8080/"
        },
        "id": "hDYq7D5tQcNY",
        "outputId": "57d3af1c-52c0-44a8-d46d-f5493ed0c4e4"
      },
      "outputs": [],
      "source": [
        "dir_path = \"/content/gdrive/MyDrive/Drowsiness_detection_using_yolov7/yolov7\"\n",
        "%cd {dir_path}\n",
        "!python3 train.py --img 640 --batch 32 --epochs 25 --workers 8 --data {dir_path}/drowsiness_dataset/data.yaml --weights {dir_path}/yolov7.pt --cfg {dir_path}/cfg/training/yolov7-c.yaml --hyp {dir_path}/drowsiness_dataset/hyps/hyp.scratch.custom.yaml --device 0\n"
      ]
    },
    {
      "cell_type": "code",
      "execution_count": null,
      "metadata": {
        "colab": {
          "base_uri": "https://localhost:8080/"
        },
        "id": "9yrGMEZv0eDv",
        "outputId": "0f4fd89d-9ce0-45fa-9494-28cf033ed78f"
      },
      "outputs": [],
      "source": [
        "dir_path = \"/content/gdrive/MyDrive/Drowsiness_detection_using_yolov7/yolov7\"\n",
        "%cd {dir_path}\n",
        "!python3 train.py --save-txt --save-conf --save-hybrid --save-plot"
      ]
    },
    {
      "cell_type": "code",
      "execution_count": null,
      "metadata": {
        "colab": {
          "base_uri": "https://localhost:8080/"
        },
        "id": "E6wh9ufZQ2kq",
        "outputId": "eb6f82fa-a7bb-45e8-aabf-5b3143818c0b"
      },
      "outputs": [],
      "source": [
        "dir_path = \"/content/gdrive/MyDrive/Drowsiness_detection_using_yolov7/yolov7\"\n",
        "%cd {dir_path}\n",
        "!python3 detect.py --weights {dir_path}/runs/train/exp19/weights/best.pt --conf 0.1 --source {dir_path}/testing/\n"
      ]
    },
    {
      "cell_type": "code",
      "execution_count": null,
      "metadata": {
        "colab": {
          "base_uri": "https://localhost:8080/",
          "height": 1000
        },
        "id": "gJ94S8SJRAOm",
        "outputId": "8d8f2fa0-92da-44ad-bca5-e9d91f30eb61"
      },
      "outputs": [],
      "source": [
        "import glob\n",
        "from IPython.display import Image, display\n",
        "\n",
        "i = 0\n",
        "limit = 10000\n",
        "dir_path = \"/content/gdrive/MyDrive/Drowsiness_detection_using_yolov7/yolov7\"\n",
        "%cd {dir_path}\n",
        "for imageName in glob.glob('/content/gdrive/MyDrive/Drowsiness_detection_using_yolov7/yolov7/runs/detect/exp3/*.jp*'):\n",
        "    if i < limit:\n",
        "      display(Image(filename=imageName))\n",
        "      print(\"\\n\")\n",
        "    i = i + 1"
      ]
    },
    {
      "cell_type": "code",
      "execution_count": null,
      "metadata": {
        "id": "JGELNV5gy0kt"
      },
      "outputs": [],
      "source": [
        "from IPython.display import display, Javascript\n",
        "from google.colab.output import eval_js\n",
        "from base64 import b64decode\n",
        "\n",
        "def take_photo(filename='testing.jpg', quality=0.8):\n",
        "  js = Javascript('''\n",
        "    async function takePhoto(quality) {\n",
        "      const div = document.createElement('div');\n",
        "      const capture = document.createElement('button');\n",
        "      capture.textContent = 'Capture';\n",
        "      div.appendChild(capture);\n",
        "\n",
        "      const video = document.createElement('video');\n",
        "      video.style.display = 'block';\n",
        "      const stream = await navigator.mediaDevices.getUserMedia({video: true});\n",
        "\n",
        "      document.body.appendChild(div);\n",
        "      div.appendChild(video);\n",
        "      video.srcObject = stream;\n",
        "      await video.play();\n",
        "\n",
        "      // Resize the output to fit the video element.\n",
        "      google.colab.output.setIframeHeight(document.documentElement.scrollHeight, true);\n",
        "\n",
        "      // Wait for Capture to be clicked.\n",
        "      await new Promise((resolve) => capture.onclick = resolve);\n",
        "\n",
        "      const canvas = document.createElement('canvas');\n",
        "      canvas.width = video.videoWidth;\n",
        "      canvas.height = video.videoHeight;\n",
        "      canvas.getContext('2d').drawImage(video, 0, 0);\n",
        "      stream.getVideoTracks()[0].stop();\n",
        "      div.remove();\n",
        "      return canvas.toDataURL('image/jpeg', quality);\n",
        "    }\n",
        "    ''')\n",
        "  display(js)\n",
        "  data = eval_js('takePhoto({})'.format(quality))\n",
        "  binary = b64decode(data.split(',')[1])\n",
        "  filepath = '/content/gdrive/MyDrive/Drowsiness_detection_using_yolov7/yolov7/webcam_testing/' + filename\n",
        "  with open(filepath, 'wb') as f:\n",
        "    f.write(binary)\n",
        "  return filepath"
      ]
    },
    {
      "cell_type": "code",
      "execution_count": null,
      "metadata": {
        "colab": {
          "base_uri": "https://localhost:8080/",
          "height": 515
        },
        "id": "HmRq4Ok5zKdR",
        "outputId": "c40b7159-899f-4880-f951-ec32c570d3e6"
      },
      "outputs": [],
      "source": [
        "from IPython.display import Image\n",
        "try:\n",
        "  filename = take_photo()\n",
        "  print('Saved to {}'.format(filename))\n",
        "\n",
        "  display(Image(filename))\n",
        "except Exception as err:\n",
        "\n",
        "  print(str(err))"
      ]
    },
    {
      "cell_type": "code",
      "execution_count": null,
      "metadata": {
        "colab": {
          "base_uri": "https://localhost:8080/"
        },
        "id": "_Xgyiu_DzLZW",
        "outputId": "5e23e6ce-0481-4fb2-d3cc-2c089d4973d2"
      },
      "outputs": [],
      "source": [
        "dir_path = \"/content/gdrive/MyDrive/Drowsiness_detection_using_yolov7/yolov7\"\n",
        "%cd {dir_path}\n",
        "!python3 detect.py --weights {dir_path}/runs/train/exp19/weights/best.pt --conf 0.1 --source {dir_path}/webcam_testing/testing.jpg\n"
      ]
    },
    {
      "cell_type": "code",
      "execution_count": null,
      "metadata": {
        "colab": {
          "base_uri": "https://localhost:8080/",
          "height": 497
        },
        "id": "M4oANkz80DOR",
        "outputId": "75ba570e-646a-4ffb-e853-d0bae5ee9bc9"
      },
      "outputs": [],
      "source": [
        "from IPython.display import Image\n",
        "Image(\"/content/gdrive/MyDrive/Drowsiness_detection_using_yolov7/yolov7/runs/detect/exp4/testing.jpg\")"
      ]
    }
  ],
  "metadata": {
    "colab": {
      "provenance": []
    },
    "kernelspec": {
      "display_name": "Python 3",
      "name": "python3"
    },
    "language_info": {
      "name": "python"
    }
  },
  "nbformat": 4,
  "nbformat_minor": 0
}
